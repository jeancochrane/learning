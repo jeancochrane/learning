{
 "cells": [
  {
   "cell_type": "markdown",
   "metadata": {},
   "source": [
    "# Chapter 4: Data Preprocessing\n",
    "\n",
    "## Introduction\n",
    "\n",
    "A good machine learning model is nothing without good data. In this chapter, Raschka goes over some common techniques for getting your data into shape for the training/testing process.\n",
    "\n",
    "We cover three general elements of preprocessing:\n",
    "\n",
    "1. [Removing and imputing **missing data**](#Removing-and-imputing-missing-data)\n",
    "2. [Dealing with **categorical** variables](#Dealing-with-categorical-variables)\n",
    "3. [**Feature selection**](#Feature-selection)\n",
    "\n",
    "In the process, we make liberal use of the `sklearn.preprocessing` module, which has a lot of handy preprocessing functions built-in.\n",
    "\n",
    "### Using scikit-learn's estimator API\n",
    "\n",
    "Most of scikit-learn's preprocessing functions make use of two essential class methods:\n",
    "\n",
    "- `fit()`: learns parameters based on sample data\n",
    "- `transform()`: uses learned parameters to change the values of the inputs\n",
    "\n",
    "These two methods should look familiar: all of the classification models we've used so far have made use of them!\n",
    "\n",
    "Scikit-learn also often includes a method that combines these two functions into one operation:\n",
    "\n",
    "- `fit_transform()`: learns parameters based on sample data, then uses those parameters to transform and return the sample data\n",
    "\n",
    "We'll most often use `fit_transform()` when we're preprocessing data, since we'll often want a transformed version of the training data. When training a model, however, we often want the fine-grained control offered by the different `fit()` and `transform()` methods.\n",
    "\n",
    "## Removing and imputing missing data\n",
    "\n",
    "### What's up with missing data?\n",
    "\n",
    "If they're not handled properly, missing data (i.e. missing *features* - row values that are empty) can be a huge source of error in machine learning models.\n",
    "\n",
    "Some common reasons that row values can be missing from a dataset:\n",
    "\n",
    "1. Errors in the collection process\n",
    "2. Conscious decisions by the schema designers (e.g. `NULL` indicates that the respondent refused to answer)\n",
    "3. The feature does not apply to the sample (e.g. conditional features)\n",
    "\n",
    "It's important to be aware of any **intended meanings** behind missing values before making a decision about how to interpret them. In 2 and 3 above, for example, missing values have *semantic meaning* that must be interpreted in the way that the producers of the data intended.\n",
    "\n",
    "### Common tactics\n",
    "\n",
    "In general, there are two ways of dealing with missing data:\n",
    "\n",
    "1. **Eliminate samples** (or features) that contain erroneously missing values\n",
    "2. **Impute (guess)** missing values based on context.\n",
    "\n",
    "The advantage of eliminating samples or features is that it's easy and principled; the downside is that it can remove valuable information from your data, leading to a biased estimator.\n",
    "\n",
    "Since training data is often precious and difficult to come by, we have two main methods for **imputing** missing data:\n",
    "\n",
    "1. **Mean imputation**: Substitute the mean of the feature for the row value (most common for numerical variables)\n",
    "2. **Mode imputation**: Subsitute the mode of the feature for the row value (most common for categorical variables)\n",
    "\n",
    "Different imputation strategies are available via the [`sklearn.preprocessing.Imputer`](http://scikit-learn.org/stable/modules/generated/sklearn.preprocessing.Imputer.html#sklearn.preprocessing.Imputer) class."
   ]
  }
 ],
 "metadata": {
  "kernelspec": {
   "display_name": "learning",
   "language": "python",
   "name": "learning"
  },
  "language_info": {
   "codemirror_mode": {
    "name": "ipython",
    "version": 3
   },
   "file_extension": ".py",
   "mimetype": "text/x-python",
   "name": "python",
   "nbconvert_exporter": "python",
   "pygments_lexer": "ipython3",
   "version": "3.6.0"
  }
 },
 "nbformat": 4,
 "nbformat_minor": 2
}
