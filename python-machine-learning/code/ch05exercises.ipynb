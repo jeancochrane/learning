{
 "cells": [
  {
   "cell_type": "markdown",
   "metadata": {},
   "source": [
    "# Exercises for Chapter 5\n",
    "\n",
    "## Topics\n",
    "\n",
    "### PCA\n",
    "\n",
    "- Implement a version of PCA, then compare it to scikit-learn\n",
    "\n",
    "- Dig back through WTB data prep and make an exercise out of the crime data PCA\n",
    "\n",
    "### LDA \n",
    "\n",
    "- Repeat exercise from part 1 with LDA\n",
    "\n",
    "### Kernel PCA\n",
    "\n",
    "- Create a moon-shaped dataset\n",
    "\n",
    "- Try PCA/LDA on it: how does it perform?\n",
    "\n",
    "- Use kernel PCA and compare results"
   ]
  }
 ],
 "metadata": {
  "kernelspec": {
   "display_name": "Python 3",
   "language": "python",
   "name": "python3"
  },
  "language_info": {
   "codemirror_mode": {
    "name": "ipython",
    "version": 3
   },
   "file_extension": ".py",
   "mimetype": "text/x-python",
   "name": "python",
   "nbconvert_exporter": "python",
   "pygments_lexer": "ipython3",
   "version": "3.5.2"
  }
 },
 "nbformat": 4,
 "nbformat_minor": 2
}
