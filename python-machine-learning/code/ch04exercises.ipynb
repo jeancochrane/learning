{
 "cells": [
  {
   "cell_type": "markdown",
   "metadata": {},
   "source": [
    "# Exercises for Chapters 4 and 5\n",
    "\n",
    "## Topics\n",
    "\n",
    "### Imputing missing data\n",
    "\n",
    "- Compare performance of feature elimination vs. mean imputation for a dataset with lots of missing values\n",
    "\n",
    "### Preprocessing categorical variables\n",
    "\n",
    "- Compare performance of one-hot encoding and naive encoding for a dataset with nominal features\n",
    "\n",
    "### Feature scaling\n",
    "\n",
    "- Why might decision trees and random forests be exempt from the need to scale features?\n",
    "\n",
    "- Compare performance of normalization and standardization\n",
    "\n",
    "### Feature selection\n",
    "\n",
    "- Implement SBS\n",
    "\n",
    "- Feature selection through random forests (with `feature_importances_`)\n",
    "\n",
    "- Feature selection through L1 regularization"
   ]
  }
 ],
 "metadata": {
  "kernelspec": {
   "display_name": "Python 3",
   "language": "python",
   "name": "python3"
  },
  "language_info": {
   "codemirror_mode": {
    "name": "ipython",
    "version": 3
   },
   "file_extension": ".py",
   "mimetype": "text/x-python",
   "name": "python",
   "nbconvert_exporter": "python",
   "pygments_lexer": "ipython3",
   "version": "3.5.2"
  }
 },
 "nbformat": 4,
 "nbformat_minor": 2
}
